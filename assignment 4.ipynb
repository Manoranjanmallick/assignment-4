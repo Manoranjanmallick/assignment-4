{
 "cells": [
  {
   "cell_type": "code",
   "execution_count": 1,
   "id": "5c7e3b25",
   "metadata": {},
   "outputs": [],
   "source": [
    "#1. What exactly is []?\n",
    "# it is an empty list."
   ]
  },
  {
   "cell_type": "code",
   "execution_count": 5,
   "id": "ded879c1",
   "metadata": {},
   "outputs": [
    {
     "name": "stdout",
     "output_type": "stream",
     "text": [
      "[2, 4, 6, 'hello', 10]\n"
     ]
    }
   ],
   "source": [
    "#2. In a list of values stored in a variable called spam, how would you assign the value 'hello' as the\n",
    "#third value? (Assume [2, 4, 6, 8, 10] are in spam.)\n",
    "spam = [2, 4, 6, 8, 10]\n",
    "spam[3] = 'hello'\n",
    "print(spam)\n"
   ]
  },
  {
   "cell_type": "code",
   "execution_count": 6,
   "id": "ac38b7eb",
   "metadata": {},
   "outputs": [],
   "source": [
    "#Let's pretend the spam includes the list ['a','b','c','d'] for the next three queries."
   ]
  },
  {
   "cell_type": "code",
   "execution_count": 7,
   "id": "4004c57f",
   "metadata": {},
   "outputs": [
    {
     "name": "stdout",
     "output_type": "stream",
     "text": [
      "d\n"
     ]
    }
   ],
   "source": [
    "#3. What is the value of spam[int(int('3' * 2) / 11)]?\n",
    "spam=['a','b','c','d']\n",
    "print(spam[int(int('3' * 2) / 11)])"
   ]
  },
  {
   "cell_type": "code",
   "execution_count": 8,
   "id": "9b85dc30",
   "metadata": {},
   "outputs": [],
   "source": [
    "#4. What is the value of spam[-1]?\n",
    "# d"
   ]
  },
  {
   "cell_type": "code",
   "execution_count": 9,
   "id": "6e2c00cc",
   "metadata": {},
   "outputs": [
    {
     "data": {
      "text/plain": [
       "['a', 'b']"
      ]
     },
     "execution_count": 9,
     "metadata": {},
     "output_type": "execute_result"
    }
   ],
   "source": [
    "#5. What is the value of spam[:2]?\n",
    "spam[:2]"
   ]
  },
  {
   "cell_type": "code",
   "execution_count": 10,
   "id": "327aef61",
   "metadata": {},
   "outputs": [],
   "source": [
    "#Let's pretend bacon has the list [3.14,'cat', 11,'cat', True] for the next three questions."
   ]
  },
  {
   "cell_type": "code",
   "execution_count": 19,
   "id": "8bba62d6",
   "metadata": {},
   "outputs": [
    {
     "data": {
      "text/plain": [
       "1"
      ]
     },
     "execution_count": 19,
     "metadata": {},
     "output_type": "execute_result"
    }
   ],
   "source": [
    "#6 What is the value of bacon.index(&#39;cat&#39;)?\n",
    "bacon=[3.14,'cat', 11,'cat', True]\n",
    "bacon.index('cat')"
   ]
  },
  {
   "cell_type": "code",
   "execution_count": 20,
   "id": "0708c452",
   "metadata": {},
   "outputs": [
    {
     "name": "stdout",
     "output_type": "stream",
     "text": [
      "[3.14, 'cat', 11, 'cat', True, 99]\n"
     ]
    }
   ],
   "source": [
    "#7. How does bacon.append(99) change the look of the list value in bacon?\n",
    "# it adds 99 to current list\n",
    "bacon.append(99)\n",
    "print(bacon)"
   ]
  },
  {
   "cell_type": "code",
   "execution_count": 22,
   "id": "b808deaa",
   "metadata": {},
   "outputs": [
    {
     "name": "stdout",
     "output_type": "stream",
     "text": [
      "[3.14, 11, True, 99]\n"
     ]
    }
   ],
   "source": [
    "#8. How does bacon.remove('cat') change the look of the list in bacon?\n",
    "# it will permanently remove cat from list bacon.\n",
    "bacon.remove('cat')\n",
    "print(bacon)"
   ]
  },
  {
   "cell_type": "code",
   "execution_count": null,
   "id": "43179d21",
   "metadata": {},
   "outputs": [],
   "source": [
    "#9. What are the list concatenation and list replication operators?\n",
    "#In Python, the list concatenation operator is + aka addition\n",
    "#and the list replication operator is * aka multiplication"
   ]
  },
  {
   "cell_type": "code",
   "execution_count": 27,
   "id": "00776ce9",
   "metadata": {},
   "outputs": [],
   "source": [
    "#10. What is difference between the list methods append() and insert()?\n",
    "# append(): it adds element at the end of the list\n",
    "# insert(): it adds element at perticular index"
   ]
  },
  {
   "cell_type": "code",
   "execution_count": 28,
   "id": "54bb3e3c",
   "metadata": {},
   "outputs": [],
   "source": [
    "#11. What are the two methods for removing items from a list?\n",
    "# There are two common methods for removing items from a list remove() and pop()."
   ]
  },
  {
   "cell_type": "code",
   "execution_count": 29,
   "id": "7d41e975",
   "metadata": {},
   "outputs": [],
   "source": [
    "#12. Describe how list values and string values are identical.\n",
    "#Sequential Data: Both lists and strings are sequential data types, meaning they store a collection of elements in a specific order. Elements in both lists and strings can be accessed by their index.\n",
    "\n",
    "#Indexing: Both lists and strings allow you to access individual elements by their index. In Python, indices start from 0, so the first element has an index of 0, the second element has an index of 1, and so on.\n",
    "\n",
    "#Slicing: Lists and strings support slicing, which allows you to extract a portion of the data by specifying a range of indices. This can be useful for extracting substrings or sublists.\n",
    "\n",
    "#Iteration: You can iterate over both lists and strings using loops or other iterable processing methods. This allows you to access each element or character one at a time."
   ]
  },
  {
   "cell_type": "code",
   "execution_count": 30,
   "id": "1b8d1e83",
   "metadata": {},
   "outputs": [],
   "source": [
    "#13. What's the difference between tuples and lists?\n",
    "#lists are mutable where tupils are immutable."
   ]
  },
  {
   "cell_type": "code",
   "execution_count": 31,
   "id": "100ed223",
   "metadata": {},
   "outputs": [],
   "source": [
    "#14. How do you type a tuple value that only contains the integer 42?\n",
    "t=(42)"
   ]
  },
  {
   "cell_type": "code",
   "execution_count": 34,
   "id": "644c8662",
   "metadata": {},
   "outputs": [
    {
     "name": "stdout",
     "output_type": "stream",
     "text": [
      "(1, 2, 3, 4, 5)\n",
      "[1, 2, 3, 4, 5]\n"
     ]
    }
   ],
   "source": [
    "#15. How do you get a list value&#39;s tuple form? How do you get a tuple value&#39;s list form?\n",
    "l=[1,2,3,4,5]\n",
    "t=tuple(l)\n",
    "print(t)\n",
    "l1=list(t)\n",
    "print(l1)"
   ]
  },
  {
   "cell_type": "code",
   "execution_count": 35,
   "id": "bef2f212",
   "metadata": {},
   "outputs": [
    {
     "name": "stdout",
     "output_type": "stream",
     "text": [
      "Object `contain` not found.\n"
     ]
    }
   ],
   "source": [
    "#16. Variables that \"contain\" list values are not necessarily lists themselves. Instead, what do they\n",
    "contain?\n",
    "# In list variables are essentially names that refer to objects in memory."
   ]
  },
  {
   "cell_type": "code",
   "execution_count": 37,
   "id": "d2d6db82",
   "metadata": {},
   "outputs": [],
   "source": [
    "#17. How do you distinguish between copy.copy() and copy.deepcopy()?\n",
    "#copy.copy() (Shallow Copy):\n",
    "#The copy.copy() function creates a shallow copy of an object. Shallow copying means that a new object is created, but the elements inside the object are references to the original elements. In other words, it creates a new object with a new reference, but the individual elements are still shared between the original and copied objects.\n",
    "\n",
    "#Shallow copying is suitable when you have a simple object or a nested object where you want to create a new copy, but you don't need independent copies of the nested elements\n",
    "\n",
    "#copy.deepcopy() (Deep Copy):\n",
    "#The copy.deepcopy() function creates a deep copy of an object. Deep copying means that a new object is created, and the elements inside the object are also recursively copied. In other words, it creates a completely independent copy with its own separate references to all nested elements.\n",
    "\n",
    "#Deep copying is useful when you want to create an independent copy of an object that contains nested objects or collections. It ensures that any modifications made to the copied object or its nested elements do not affect the original object.\n"
   ]
  },
  {
   "cell_type": "code",
   "execution_count": null,
   "id": "732e3c1c",
   "metadata": {},
   "outputs": [],
   "source": []
  }
 ],
 "metadata": {
  "kernelspec": {
   "display_name": "Python 3 (ipykernel)",
   "language": "python",
   "name": "python3"
  },
  "language_info": {
   "codemirror_mode": {
    "name": "ipython",
    "version": 3
   },
   "file_extension": ".py",
   "mimetype": "text/x-python",
   "name": "python",
   "nbconvert_exporter": "python",
   "pygments_lexer": "ipython3",
   "version": "3.9.13"
  }
 },
 "nbformat": 4,
 "nbformat_minor": 5
}
